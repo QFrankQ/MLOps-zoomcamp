{
 "cells": [
  {
   "cell_type": "code",
   "execution_count": 1,
   "id": "81380baf",
   "metadata": {},
   "outputs": [],
   "source": [
    "import mlflow\n",
    "import os\n",
    "\n",
    "# os.environ[\"AWS_PROFILE\"] = \n",
    "\n",
    "TRACKING_SERVER_HOST = \"ec2-34-229-204-202.compute-1.amazonaws.com\" #fill in public DNS of the EC2 Instance Host\n",
    "\n",
    "mlflow.set_tracking_uri(f\"http://{TRACKING_SERVER_HOST}:5000\")"
   ]
  },
  {
   "cell_type": "code",
   "execution_count": 2,
   "id": "e96e8a05",
   "metadata": {},
   "outputs": [
    {
     "name": "stdout",
     "output_type": "stream",
     "text": [
      "tracking uri: 'http://ec2-34-229-204-202.compute-1.amazonaws.com:5000'\n"
     ]
    }
   ],
   "source": [
    "print(f\"tracking uri: '{mlflow.get_tracking_uri()}'\")"
   ]
  },
  {
   "cell_type": "code",
   "execution_count": 3,
   "id": "c0025456",
   "metadata": {},
   "outputs": [
    {
     "name": "stdout",
     "output_type": "stream",
     "text": [
      "Name: my-experiment-1, ID: 1\n",
      "Name: Default, ID: 0\n"
     ]
    }
   ],
   "source": [
    "\n",
    "\n",
    "# List all experiments\n",
    "experiments = mlflow.search_experiments()\n",
    "\n",
    "# Print experiment names and IDs\n",
    "for exp in experiments:\n",
    "    print(f\"Name: {exp.name}, ID: {exp.experiment_id}\")\n",
    "\n"
   ]
  },
  {
   "cell_type": "markdown",
   "id": "3941a34d",
   "metadata": {},
   "source": [
    "## Setting up credentials\n",
    "\n",
    "If encountering credential errors, remember to install awscli and run \"aws configure\" in terminal. The AWS Access Key Id and AWS Secret Access Key are the keys in the downloaded csv file when the S3 bucket was created.\n",
    "\n",
    "To install awscli on EC2 ubuntu, follow https://dev.to/abstractmusa/install-aws-cli-command-line-interface-on-ubuntu-1b50"
   ]
  },
  {
   "cell_type": "code",
   "execution_count": 4,
   "id": "5da0467a",
   "metadata": {},
   "outputs": [
    {
     "name": "stderr",
     "output_type": "stream",
     "text": [
      "\u001b[31m2025/07/01 21:21:27 WARNING mlflow.models.model: Model logged without a signature and input example. Please set `input_example` parameter when logging the model to auto infer the model signature.\u001b[0m\n"
     ]
    },
    {
     "name": "stdout",
     "output_type": "stream",
     "text": [
      "default artifacts URI: 's3://mlflow-artifacts-remote-101/1/cbfc1c76113446b0bcc255170f8e44ea/artifacts'\n",
      "🏃 View run lyrical-ram-741 at: http://ec2-34-229-204-202.compute-1.amazonaws.com:5000/#/experiments/1/runs/cbfc1c76113446b0bcc255170f8e44ea\n",
      "🧪 View experiment at: http://ec2-34-229-204-202.compute-1.amazonaws.com:5000/#/experiments/1\n"
     ]
    }
   ],
   "source": [
    "from sklearn.linear_model import LogisticRegression\n",
    "from sklearn.datasets import load_iris\n",
    "from sklearn.metrics import accuracy_score\n",
    "\n",
    "mlflow.set_experiment(\"my-experiment-1\")\n",
    "\n",
    "with mlflow.start_run():\n",
    "    \n",
    "    X, y = load_iris(return_X_y=True)\n",
    "    \n",
    "    params = {\"C\": 0.1, \"random_state\": 42}\n",
    "    mlflow.log_params(params)\n",
    "    \n",
    "    lr = LogisticRegression(**params).fit(X,y)\n",
    "    y_pred = lr.predict(X)\n",
    "    mlflow.log_metric(\"accuracy\", accuracy_score(y,y_pred))\n",
    "    \n",
    "    mlflow.sklearn.log_model(lr, name = \"models\")\n",
    "    print(f\"default artifacts URI: '{mlflow.get_artifact_uri()}'\")\n",
    "    \n",
    "    "
   ]
  },
  {
   "cell_type": "code",
   "execution_count": 5,
   "id": "c046afb6",
   "metadata": {},
   "outputs": [
    {
     "name": "stdout",
     "output_type": "stream",
     "text": [
      "Name: my-experiment-1, ID: 1\n",
      "Name: Default, ID: 0\n"
     ]
    }
   ],
   "source": [
    "# List all experiments\n",
    "experiments = mlflow.search_experiments()\n",
    "\n",
    "# Print experiment names and IDs\n",
    "for exp in experiments:\n",
    "    print(f\"Name: {exp.name}, ID: {exp.experiment_id}\")"
   ]
  },
  {
   "cell_type": "markdown",
   "id": "bfd906b1",
   "metadata": {},
   "source": [
    "## Interact with the Model Registry\n"
   ]
  },
  {
   "cell_type": "code",
   "execution_count": 6,
   "id": "4d41ebc5",
   "metadata": {},
   "outputs": [],
   "source": [
    "from mlflow.tracking import MlflowClient\n",
    "\n",
    "client = MlflowClient(f\"http://{TRACKING_SERVER_HOST}:5000\")"
   ]
  },
  {
   "cell_type": "code",
   "execution_count": 9,
   "id": "2a9ba493",
   "metadata": {},
   "outputs": [],
   "source": [
    "from mlflow.tracking import MlflowClient\n",
    "\n",
    "client = MlflowClient()\n",
    "models = client.search_registered_models()\n",
    "\n",
    "for model in models:\n",
    "    print(f\"Model Name: {model.name}\")\n"
   ]
  },
  {
   "cell_type": "code",
   "execution_count": 11,
   "id": "122144df",
   "metadata": {},
   "outputs": [
    {
     "name": "stderr",
     "output_type": "stream",
     "text": [
      "Successfully registered model 'iris_classifier'.\n",
      "2025/07/01 21:34:40 WARNING mlflow.tracking._model_registry.fluent: Run with id cbfc1c76113446b0bcc255170f8e44ea has no artifacts at artifact path 'models', registering model based on models:/m-19c027417ae84b9982802d2ec1c2e103 instead\n",
      "2025/07/01 21:34:40 INFO mlflow.store.model_registry.abstract_store: Waiting up to 300 seconds for model version to finish creation. Model name: iris_classifier, version 1\n",
      "Created version '1' of model 'iris_classifier'.\n"
     ]
    },
    {
     "data": {
      "text/plain": [
       "<ModelVersion: aliases=[], creation_timestamp=1751405680864, current_stage='None', deployment_job_state=<ModelVersionDeploymentJobState: current_task_name='', job_id='', job_state='DEPLOYMENT_JOB_CONNECTION_STATE_UNSPECIFIED', run_id='', run_state='DEPLOYMENT_JOB_RUN_STATE_UNSPECIFIED'>, description='', last_updated_timestamp=1751405680864, metrics=None, model_id=None, name='iris_classifier', params=None, run_id='cbfc1c76113446b0bcc255170f8e44ea', run_link='', source='models:/m-19c027417ae84b9982802d2ec1c2e103', status='READY', status_message=None, tags={}, user_id='', version='1'>"
      ]
     },
     "execution_count": 11,
     "metadata": {},
     "output_type": "execute_result"
    }
   ],
   "source": [
    "run_id = client.search_runs(experiment_ids='1')[0].info.run_id\n",
    "mlflow.register_model(\n",
    "    model_uri=f\"runs:/{run_id}/models\",\n",
    "    name=\"iris_classifier\"\n",
    ")"
   ]
  }
 ],
 "metadata": {
  "kernelspec": {
   "display_name": "mlops-zoomcamp",
   "language": "python",
   "name": "python3"
  },
  "language_info": {
   "codemirror_mode": {
    "name": "ipython",
    "version": 3
   },
   "file_extension": ".py",
   "mimetype": "text/x-python",
   "name": "python",
   "nbconvert_exporter": "python",
   "pygments_lexer": "ipython3",
   "version": "3.10.18"
  }
 },
 "nbformat": 4,
 "nbformat_minor": 5
}
